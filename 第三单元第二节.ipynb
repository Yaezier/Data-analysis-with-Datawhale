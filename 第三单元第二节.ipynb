{
 "cells": [
  {
   "cell_type": "markdown",
   "id": "3a78a275",
   "metadata": {},
   "source": [
    "# 第三章 模型搭建和评估-评估  \n",
    "根据之前的模型的建模，我们知道如何运用sklearn这个库来完成建模，以及我们知道了的数据集的划分等等操作。那么一个模型我们怎么知道它好不好用呢？以至于我们能不能放心的使用模型给我的结果呢？那么今天的学习的评估，就会很有帮助。\n",
    "\n",
    "加载下面的库"
   ]
  },
  {
   "cell_type": "code",
   "execution_count": 1,
   "id": "0061fc5c",
   "metadata": {},
   "outputs": [],
   "source": [
    "import pandas as pd\n",
    "import numpy as np\n",
    "import seaborn as sns\n",
    "import matplotlib.pyplot as plt\n",
    "from IPython.display import Image\n",
    "from sklearn.linear_model import LogisticRegression\n",
    "from sklearn.ensemble import RandomForestClassifier"
   ]
  },
  {
   "cell_type": "code",
   "execution_count": 2,
   "id": "a901a82a",
   "metadata": {},
   "outputs": [],
   "source": [
    "%matplotlib inline"
   ]
  },
  {
   "cell_type": "code",
   "execution_count": 3,
   "id": "568b9c15",
   "metadata": {},
   "outputs": [],
   "source": [
    "plt.rcParams['font.sans-serif'] = ['SimHei']  # 用来正常显示中文标签\n",
    "plt.rcParams['axes.unicode_minus'] = False  # 用来正常显示负号\n",
    "plt.rcParams['figure.figsize'] = (10, 6)  # 设置输出图片大小"
   ]
  },
  {
   "cell_type": "markdown",
   "id": "cffbad4f",
   "metadata": {},
   "source": [
    "**任务：加载数据并分割测试集和训练集**"
   ]
  },
  {
   "cell_type": "code",
   "execution_count": 4,
   "id": "86769a73",
   "metadata": {},
   "outputs": [],
   "source": [
    "cdf = pd.read_csv('clear_data.csv')\n",
    "df = pd.read_csv('train.csv')\n",
    "from sklearn.model_selection import train_test_split\n",
    "X = cdf\n",
    "y = df['Survived']\n",
    "X_train, X_test, y_train, y_test = train_test_split(X, y, test_size=0.2, random_state=42)"
   ]
  },
  {
   "cell_type": "markdown",
   "id": "a515b724",
   "metadata": {},
   "source": [
    "# 模型评估\n",
    "模型评估是为了知道模型的泛化能力。  \n",
    "交叉验证（cross-validation）是一种评估泛化性能的统计学方法，它比单次划分训练集和测试集的方法更加稳定、全面。  \n",
    "在交叉验证中，数据被多次划分，并且需要训练多个模型。  \n",
    "最常用的交叉验证是 k 折交叉验证（k-fold cross-validation），其中 k 是由用户指定的数字，通常取 5 或 10。  \n",
    "准确率（precision）度量的是被预测为正例的样本中有多少是真正的正例  \n",
    "召回率（recall）度量的是正类样本中有多少被预测为正类  \n",
    "f-分数是准确率与召回率的调和平均  \n",
    "【思考】：将上面的概念进一步的理解，大家可以做一下总结"
   ]
  },
  {
   "cell_type": "code",
   "execution_count": 5,
   "id": "da761c40",
   "metadata": {},
   "outputs": [],
   "source": [
    "from sklearn.model_selection import KFold"
   ]
  },
  {
   "cell_type": "code",
   "execution_count": 6,
   "id": "ba89cc1d",
   "metadata": {},
   "outputs": [],
   "source": [
    "KFold?"
   ]
  },
  {
   "cell_type": "code",
   "execution_count": 7,
   "id": "0a25d660",
   "metadata": {},
   "outputs": [
    {
     "data": {
      "text/plain": [
       "10"
      ]
     },
     "execution_count": 7,
     "metadata": {},
     "output_type": "execute_result"
    }
   ],
   "source": [
    "kf = KFold(n_splits= 10, random_state= 42, shuffle= True)\n",
    "kf.get_n_splits(X)"
   ]
  },
  {
   "cell_type": "code",
   "execution_count": 8,
   "id": "2129c75f",
   "metadata": {},
   "outputs": [],
   "source": [
    "from sklearn.model_selection import cross_val_score"
   ]
  },
  {
   "cell_type": "code",
   "execution_count": 9,
   "id": "f204c32f",
   "metadata": {},
   "outputs": [],
   "source": [
    "cross_val_score?"
   ]
  },
  {
   "cell_type": "code",
   "execution_count": 12,
   "id": "ff2fca7d",
   "metadata": {},
   "outputs": [],
   "source": [
    "from sklearn.linear_model import LogisticRegression"
   ]
  },
  {
   "cell_type": "code",
   "execution_count": 15,
   "id": "7d63dcd7",
   "metadata": {},
   "outputs": [
    {
     "name": "stderr",
     "output_type": "stream",
     "text": [
      "C:\\Users\\Li\\anaconda3\\lib\\site-packages\\sklearn\\linear_model\\_logistic.py:814: ConvergenceWarning: lbfgs failed to converge (status=1):\n",
      "STOP: TOTAL NO. of ITERATIONS REACHED LIMIT.\n",
      "\n",
      "Increase the number of iterations (max_iter) or scale the data as shown in:\n",
      "    https://scikit-learn.org/stable/modules/preprocessing.html\n",
      "Please also refer to the documentation for alternative solver options:\n",
      "    https://scikit-learn.org/stable/modules/linear_model.html#logistic-regression\n",
      "  n_iter_i = _check_optimize_result(\n",
      "C:\\Users\\Li\\anaconda3\\lib\\site-packages\\sklearn\\linear_model\\_logistic.py:814: ConvergenceWarning: lbfgs failed to converge (status=1):\n",
      "STOP: TOTAL NO. of ITERATIONS REACHED LIMIT.\n",
      "\n",
      "Increase the number of iterations (max_iter) or scale the data as shown in:\n",
      "    https://scikit-learn.org/stable/modules/preprocessing.html\n",
      "Please also refer to the documentation for alternative solver options:\n",
      "    https://scikit-learn.org/stable/modules/linear_model.html#logistic-regression\n",
      "  n_iter_i = _check_optimize_result(\n",
      "C:\\Users\\Li\\anaconda3\\lib\\site-packages\\sklearn\\linear_model\\_logistic.py:814: ConvergenceWarning: lbfgs failed to converge (status=1):\n",
      "STOP: TOTAL NO. of ITERATIONS REACHED LIMIT.\n",
      "\n",
      "Increase the number of iterations (max_iter) or scale the data as shown in:\n",
      "    https://scikit-learn.org/stable/modules/preprocessing.html\n",
      "Please also refer to the documentation for alternative solver options:\n",
      "    https://scikit-learn.org/stable/modules/linear_model.html#logistic-regression\n",
      "  n_iter_i = _check_optimize_result(\n",
      "C:\\Users\\Li\\anaconda3\\lib\\site-packages\\sklearn\\linear_model\\_logistic.py:814: ConvergenceWarning: lbfgs failed to converge (status=1):\n",
      "STOP: TOTAL NO. of ITERATIONS REACHED LIMIT.\n",
      "\n",
      "Increase the number of iterations (max_iter) or scale the data as shown in:\n",
      "    https://scikit-learn.org/stable/modules/preprocessing.html\n",
      "Please also refer to the documentation for alternative solver options:\n",
      "    https://scikit-learn.org/stable/modules/linear_model.html#logistic-regression\n",
      "  n_iter_i = _check_optimize_result(\n",
      "C:\\Users\\Li\\anaconda3\\lib\\site-packages\\sklearn\\linear_model\\_logistic.py:814: ConvergenceWarning: lbfgs failed to converge (status=1):\n",
      "STOP: TOTAL NO. of ITERATIONS REACHED LIMIT.\n",
      "\n",
      "Increase the number of iterations (max_iter) or scale the data as shown in:\n",
      "    https://scikit-learn.org/stable/modules/preprocessing.html\n",
      "Please also refer to the documentation for alternative solver options:\n",
      "    https://scikit-learn.org/stable/modules/linear_model.html#logistic-regression\n",
      "  n_iter_i = _check_optimize_result(\n",
      "C:\\Users\\Li\\anaconda3\\lib\\site-packages\\sklearn\\linear_model\\_logistic.py:814: ConvergenceWarning: lbfgs failed to converge (status=1):\n",
      "STOP: TOTAL NO. of ITERATIONS REACHED LIMIT.\n",
      "\n",
      "Increase the number of iterations (max_iter) or scale the data as shown in:\n",
      "    https://scikit-learn.org/stable/modules/preprocessing.html\n",
      "Please also refer to the documentation for alternative solver options:\n",
      "    https://scikit-learn.org/stable/modules/linear_model.html#logistic-regression\n",
      "  n_iter_i = _check_optimize_result(\n"
     ]
    },
    {
     "name": "stdout",
     "output_type": "stream",
     "text": [
      "[0.81944444 0.76388889 0.70422535 0.95774648 0.83098592 0.74647887\n",
      " 0.74647887 0.73239437 0.74647887 0.88732394]\n"
     ]
    },
    {
     "name": "stderr",
     "output_type": "stream",
     "text": [
      "C:\\Users\\Li\\anaconda3\\lib\\site-packages\\sklearn\\linear_model\\_logistic.py:814: ConvergenceWarning: lbfgs failed to converge (status=1):\n",
      "STOP: TOTAL NO. of ITERATIONS REACHED LIMIT.\n",
      "\n",
      "Increase the number of iterations (max_iter) or scale the data as shown in:\n",
      "    https://scikit-learn.org/stable/modules/preprocessing.html\n",
      "Please also refer to the documentation for alternative solver options:\n",
      "    https://scikit-learn.org/stable/modules/linear_model.html#logistic-regression\n",
      "  n_iter_i = _check_optimize_result(\n",
      "C:\\Users\\Li\\anaconda3\\lib\\site-packages\\sklearn\\linear_model\\_logistic.py:814: ConvergenceWarning: lbfgs failed to converge (status=1):\n",
      "STOP: TOTAL NO. of ITERATIONS REACHED LIMIT.\n",
      "\n",
      "Increase the number of iterations (max_iter) or scale the data as shown in:\n",
      "    https://scikit-learn.org/stable/modules/preprocessing.html\n",
      "Please also refer to the documentation for alternative solver options:\n",
      "    https://scikit-learn.org/stable/modules/linear_model.html#logistic-regression\n",
      "  n_iter_i = _check_optimize_result(\n",
      "C:\\Users\\Li\\anaconda3\\lib\\site-packages\\sklearn\\linear_model\\_logistic.py:814: ConvergenceWarning: lbfgs failed to converge (status=1):\n",
      "STOP: TOTAL NO. of ITERATIONS REACHED LIMIT.\n",
      "\n",
      "Increase the number of iterations (max_iter) or scale the data as shown in:\n",
      "    https://scikit-learn.org/stable/modules/preprocessing.html\n",
      "Please also refer to the documentation for alternative solver options:\n",
      "    https://scikit-learn.org/stable/modules/linear_model.html#logistic-regression\n",
      "  n_iter_i = _check_optimize_result(\n",
      "C:\\Users\\Li\\anaconda3\\lib\\site-packages\\sklearn\\linear_model\\_logistic.py:814: ConvergenceWarning: lbfgs failed to converge (status=1):\n",
      "STOP: TOTAL NO. of ITERATIONS REACHED LIMIT.\n",
      "\n",
      "Increase the number of iterations (max_iter) or scale the data as shown in:\n",
      "    https://scikit-learn.org/stable/modules/preprocessing.html\n",
      "Please also refer to the documentation for alternative solver options:\n",
      "    https://scikit-learn.org/stable/modules/linear_model.html#logistic-regression\n",
      "  n_iter_i = _check_optimize_result(\n"
     ]
    }
   ],
   "source": [
    "clf = LogisticRegression()\n",
    "print(cross_val_score(clf, X_train, y_train, cv=10))"
   ]
  },
  {
   "cell_type": "markdown",
   "id": "8f39f5bf",
   "metadata": {},
   "source": [
    "### 任务二：混淆矩阵  \n",
    "计算二分类问题的混淆矩阵  \n",
    "计算精确率、召回率以及f-分数  \n",
    "【思考】什么是二分类问题的混淆矩阵，理解这个概念，知道它主要是运算到什么任务中的"
   ]
  },
  {
   "cell_type": "code",
   "execution_count": 17,
   "id": "b7f254b0",
   "metadata": {},
   "outputs": [],
   "source": [
    "from sklearn import metrics as ms\n",
    "from sklearn.metrics import classification_report as cr"
   ]
  },
  {
   "cell_type": "code",
   "execution_count": 21,
   "id": "a0fe14fe",
   "metadata": {},
   "outputs": [
    {
     "name": "stderr",
     "output_type": "stream",
     "text": [
      "C:\\Users\\Li\\anaconda3\\lib\\site-packages\\sklearn\\linear_model\\_logistic.py:814: ConvergenceWarning: lbfgs failed to converge (status=1):\n",
      "STOP: TOTAL NO. of ITERATIONS REACHED LIMIT.\n",
      "\n",
      "Increase the number of iterations (max_iter) or scale the data as shown in:\n",
      "    https://scikit-learn.org/stable/modules/preprocessing.html\n",
      "Please also refer to the documentation for alternative solver options:\n",
      "    https://scikit-learn.org/stable/modules/linear_model.html#logistic-regression\n",
      "  n_iter_i = _check_optimize_result(\n"
     ]
    }
   ],
   "source": [
    "clf.fit(X_train, y_train)\n",
    "X_train_predict = clf.predict(X_train)\n",
    "X_test_predict = clf.predict(X_test)"
   ]
  },
  {
   "cell_type": "code",
   "execution_count": 39,
   "id": "42f0e7ee",
   "metadata": {},
   "outputs": [
    {
     "data": {
      "text/plain": [
       "array([[388,  56],\n",
       "       [ 85, 183]], dtype=int64)"
      ]
     },
     "execution_count": 39,
     "metadata": {},
     "output_type": "execute_result"
    }
   ],
   "source": [
    "ms.confusion_matrix(y_train, X_train_predict)"
   ]
  },
  {
   "cell_type": "code",
   "execution_count": 41,
   "id": "fb491b9d",
   "metadata": {},
   "outputs": [
    {
     "name": "stdout",
     "output_type": "stream",
     "text": [
      "              precision    recall  f1-score   support\n",
      "\n",
      "           0       0.82      0.87      0.85       444\n",
      "           1       0.77      0.68      0.72       268\n",
      "\n",
      "    accuracy                           0.80       712\n",
      "   macro avg       0.79      0.78      0.78       712\n",
      "weighted avg       0.80      0.80      0.80       712\n",
      "\n"
     ]
    }
   ],
   "source": [
    "print(cr(y_train, X_train_predict))"
   ]
  },
  {
   "cell_type": "code",
   "execution_count": 26,
   "id": "c9b5fb14",
   "metadata": {},
   "outputs": [
    {
     "name": "stdout",
     "output_type": "stream",
     "text": [
      "              precision    recall  f1-score   support\n",
      "\n",
      "           0       0.81      0.87      0.83       105\n",
      "           1       0.79      0.70      0.74        74\n",
      "\n",
      "    accuracy                           0.80       179\n",
      "   macro avg       0.80      0.78      0.79       179\n",
      "weighted avg       0.80      0.80      0.80       179\n",
      "\n"
     ]
    }
   ],
   "source": [
    "print(cr(y_test, X_test_predict))"
   ]
  },
  {
   "cell_type": "markdown",
   "id": "dd90d17d",
   "metadata": {},
   "source": [
    "### 任务三：ROC曲线\n",
    "绘制ROC曲线  \n",
    "【思考】什么是ROC曲线，OCR曲线的存在是为了解决什么问题？"
   ]
  },
  {
   "cell_type": "code",
   "execution_count": 27,
   "id": "e52a523a",
   "metadata": {},
   "outputs": [],
   "source": [
    "ms.roc_curve?"
   ]
  },
  {
   "cell_type": "code",
   "execution_count": 49,
   "id": "4e448b21",
   "metadata": {
    "scrolled": true
   },
   "outputs": [
    {
     "data": {
      "image/png": "[encoded data removed]",
      "text/plain": [
       "<Figure size 720x432 with 1 Axes>"
      ]
     },
     "metadata": {
      "needs_background": "light"
     },
     "output_type": "display_data"
    }
   ],
   "source": [
    "fpr, tpr, thresholds = ms.roc_curve(y_train, clf.decision_function(X_train))\n",
    "plt.plot(fpr, tpr)\n",
    "plt.xlabel('fpr')\n",
    "plt.ylabel('tpr')\n",
    "plt.show()"
   ]
  },
  {
   "cell_type": "code",
   "execution_count": 50,
   "id": "0095b68c",
   "metadata": {},
   "outputs": [],
   "source": [
    "from sklearn.metrics import plot_roc_curve as prc"
   ]
  },
  {
   "cell_type": "code",
   "execution_count": 51,
   "id": "540f6ef7",
   "metadata": {},
   "outputs": [],
   "source": [
    "prc?"
   ]
  },
  {
   "cell_type": "code",
   "execution_count": 58,
   "id": "933cb876",
   "metadata": {
    "scrolled": true
   },
   "outputs": [
    {
     "name": "stderr",
     "output_type": "stream",
     "text": [
      "C:\\Users\\Li\\anaconda3\\lib\\site-packages\\sklearn\\linear_model\\_logistic.py:814: ConvergenceWarning: lbfgs failed to converge (status=1):\n",
      "STOP: TOTAL NO. of ITERATIONS REACHED LIMIT.\n",
      "\n",
      "Increase the number of iterations (max_iter) or scale the data as shown in:\n",
      "    https://scikit-learn.org/stable/modules/preprocessing.html\n",
      "Please also refer to the documentation for alternative solver options:\n",
      "    https://scikit-learn.org/stable/modules/linear_model.html#logistic-regression\n",
      "  n_iter_i = _check_optimize_result(\n"
     ]
    }
   ],
   "source": [
    "clf = LogisticRegression(random_state= 42, C = 0.5, class_weight= 'balanced').fit(X_train, y_train)\n",
    "rf = RandomForestClassifier(random_state=42).fit(X_train, y_train)"
   ]
  },
  {
   "cell_type": "code",
   "execution_count": 56,
   "id": "6ad8f06a",
   "metadata": {},
   "outputs": [],
   "source": [
    "from sklearn.ensemble import RandomForestClassifier"
   ]
  },
  {
   "cell_type": "code",
   "execution_count": 63,
   "id": "ad5fac67",
   "metadata": {},
   "outputs": [
    {
     "name": "stderr",
     "output_type": "stream",
     "text": [
      "C:\\Users\\Li\\anaconda3\\lib\\site-packages\\sklearn\\utils\\deprecation.py:87: FutureWarning: Function plot_roc_curve is deprecated; Function :func:`plot_roc_curve` is deprecated in 1.0 and will be removed in 1.2. Use one of the class methods: :meth:`sklearn.metric.RocCurveDisplay.from_predictions` or :meth:`sklearn.metric.RocCurveDisplay.from_estimator`.\n",
      "  warnings.warn(msg, category=FutureWarning)\n",
      "C:\\Users\\Li\\anaconda3\\lib\\site-packages\\sklearn\\utils\\deprecation.py:87: FutureWarning: Function plot_roc_curve is deprecated; Function :func:`plot_roc_curve` is deprecated in 1.0 and will be removed in 1.2. Use one of the class methods: :meth:`sklearn.metric.RocCurveDisplay.from_predictions` or :meth:`sklearn.metric.RocCurveDisplay.from_estimator`.\n",
      "  warnings.warn(msg, category=FutureWarning)\n"
     ]
    },
    {
     "data": {
      "text/plain": [
       "<matplotlib.legend.Legend at 0x16b0e20f640>"
      ]
     },
     "execution_count": 63,
     "metadata": {},
     "output_type": "execute_result"
    },
    {
     "data": {
      "image/png": "[encoded data removed]",
      "text/plain": [
       "<Figure size 720x432 with 1 Axes>"
      ]
     },
     "metadata": {
      "needs_background": "light"
     },
     "output_type": "display_data"
    }
   ],
   "source": [
    "clf_curve = prc(clf, X_test, y_test, response_method = 'decision_function', name = 'clf')\n",
    "re_curve = prc(rf, X_test, y_test,  name = 'rf', ax = clf_curve.ax_)\n",
    "plt.legend()"
   ]
  },
  {
   "cell_type": "code",
   "execution_count": 83,
   "id": "d39969c4",
   "metadata": {},
   "outputs": [
    {
     "data": {
      "text/plain": [
       "array([[0.69, 0.31],\n",
       "       [0.89, 0.11],\n",
       "       [0.83, 0.17],\n",
       "       [0.01, 0.99],\n",
       "       [0.74, 0.26],\n",
       "       [0.08, 0.92],\n",
       "       [0.25, 0.75],\n",
       "       [0.89, 0.11],\n",
       "       [0.22, 0.78],\n",
       "       [0.13, 0.87],\n",
       "       [0.7 , 0.3 ],\n",
       "       [0.98, 0.02],\n",
       "       [0.89, 0.11],\n",
       "       [0.96, 0.04],\n",
       "       [0.86, 0.14],\n",
       "       [0.01, 0.99],\n",
       "       [0.61, 0.39],\n",
       "       [0.38, 0.62],\n",
       "       [0.93, 0.07],\n",
       "       [0.93, 0.07],\n",
       "       [0.94, 0.06],\n",
       "       [0.39, 0.61],\n",
       "       [0.73, 0.27],\n",
       "       [0.98, 0.02],\n",
       "       [0.98, 0.02],\n",
       "       [0.87, 0.13],\n",
       "       [0.84, 0.16],\n",
       "       [0.94, 0.06],\n",
       "       [0.86, 0.14],\n",
       "       [0.53, 0.47],\n",
       "       [0.99, 0.01],\n",
       "       [0.46, 0.54],\n",
       "       [0.51, 0.49],\n",
       "       [0.37, 0.63],\n",
       "       [0.59, 0.41],\n",
       "       [0.66, 0.34],\n",
       "       [0.41, 0.59],\n",
       "       [0.46, 0.54],\n",
       "       [0.04, 0.96],\n",
       "       [0.99, 0.01],\n",
       "       [0.92, 0.08],\n",
       "       [0.83, 0.17],\n",
       "       [0.9 , 0.1 ],\n",
       "       [0.89, 0.11],\n",
       "       [0.47, 0.53],\n",
       "       [0.91, 0.09],\n",
       "       [0.76, 0.24],\n",
       "       [0.99, 0.01],\n",
       "       [0.75, 0.25],\n",
       "       [0.42, 0.58],\n",
       "       [0.1 , 0.9 ],\n",
       "       [0.01, 0.99],\n",
       "       [0.92, 0.08],\n",
       "       [0.36, 0.64],\n",
       "       [0.97, 0.03],\n",
       "       [0.09, 0.91],\n",
       "       [0.66, 0.34],\n",
       "       [0.09, 0.91],\n",
       "       [0.11, 0.89],\n",
       "       [0.25, 0.75],\n",
       "       [0.73, 0.27],\n",
       "       [0.02, 0.98],\n",
       "       [0.02, 0.98],\n",
       "       [0.86, 0.14],\n",
       "       [0.99, 0.01],\n",
       "       [0.  , 1.  ],\n",
       "       [0.77, 0.23],\n",
       "       [0.81, 0.19],\n",
       "       [0.61, 0.39],\n",
       "       [0.03, 0.97],\n",
       "       [0.04, 0.96],\n",
       "       [0.1 , 0.9 ],\n",
       "       [0.3 , 0.7 ],\n",
       "       [0.  , 1.  ],\n",
       "       [1.  , 0.  ],\n",
       "       [0.99, 0.01],\n",
       "       [0.15, 0.85],\n",
       "       [0.06, 0.94],\n",
       "       [0.  , 1.  ],\n",
       "       [0.32, 0.68],\n",
       "       [0.9 , 0.1 ],\n",
       "       [0.05, 0.95],\n",
       "       [0.01, 0.99],\n",
       "       [0.95, 0.05],\n",
       "       [0.84, 0.16],\n",
       "       [0.76, 0.24],\n",
       "       [0.03, 0.97],\n",
       "       [0.  , 1.  ],\n",
       "       [0.92, 0.08],\n",
       "       [0.93, 0.07],\n",
       "       [0.63, 0.37],\n",
       "       [1.  , 0.  ],\n",
       "       [0.74, 0.26],\n",
       "       [0.99, 0.01],\n",
       "       [0.93, 0.07],\n",
       "       [0.9 , 0.1 ],\n",
       "       [0.71, 0.29],\n",
       "       [0.83, 0.17],\n",
       "       [0.  , 1.  ],\n",
       "       [0.83, 0.17],\n",
       "       [0.75, 0.25],\n",
       "       [0.99, 0.01],\n",
       "       [0.02, 0.98],\n",
       "       [0.97, 0.03],\n",
       "       [0.9 , 0.1 ],\n",
       "       [0.59, 0.41],\n",
       "       [0.02, 0.98],\n",
       "       [0.8 , 0.2 ],\n",
       "       [0.87, 0.13],\n",
       "       [0.78, 0.22],\n",
       "       [0.02, 0.98],\n",
       "       [0.91, 0.09],\n",
       "       [0.01, 0.99],\n",
       "       [0.46, 0.54],\n",
       "       [0.85, 0.15],\n",
       "       [0.97, 0.03],\n",
       "       [0.84, 0.16],\n",
       "       [0.73, 0.27],\n",
       "       [0.02, 0.98],\n",
       "       [0.85, 0.15],\n",
       "       [0.84, 0.16],\n",
       "       [0.01, 0.99],\n",
       "       [0.01, 0.99],\n",
       "       [0.35, 0.65],\n",
       "       [0.98, 0.02],\n",
       "       [0.59, 0.41],\n",
       "       [0.01, 0.99],\n",
       "       [0.83, 0.17],\n",
       "       [0.54, 0.46],\n",
       "       [0.95, 0.05],\n",
       "       [0.03, 0.97],\n",
       "       [0.87, 0.13],\n",
       "       [1.  , 0.  ],\n",
       "       [0.24, 0.76],\n",
       "       [0.31, 0.69],\n",
       "       [0.58, 0.42],\n",
       "       [0.  , 1.  ],\n",
       "       [0.71, 0.29],\n",
       "       [0.94, 0.06],\n",
       "       [0.8 , 0.2 ],\n",
       "       [0.99, 0.01],\n",
       "       [0.01, 0.99],\n",
       "       [0.97, 0.03],\n",
       "       [0.84, 0.16],\n",
       "       [0.72, 0.28],\n",
       "       [0.02, 0.98],\n",
       "       [0.99, 0.01],\n",
       "       [0.61, 0.39],\n",
       "       [0.08, 0.92],\n",
       "       [1.  , 0.  ],\n",
       "       [0.86, 0.14],\n",
       "       [0.94, 0.06],\n",
       "       [0.95, 0.05],\n",
       "       [0.26, 0.74],\n",
       "       [0.92, 0.08],\n",
       "       [0.98, 0.02],\n",
       "       [0.35, 0.65],\n",
       "       [0.14, 0.86],\n",
       "       [0.  , 1.  ],\n",
       "       [0.34, 0.66],\n",
       "       [0.72, 0.28],\n",
       "       [0.69, 0.31],\n",
       "       [0.98, 0.02],\n",
       "       [0.01, 0.99],\n",
       "       [0.87, 0.13],\n",
       "       [0.84, 0.16],\n",
       "       [0.98, 0.02],\n",
       "       [0.02, 0.98],\n",
       "       [0.98, 0.02],\n",
       "       [0.98, 0.02],\n",
       "       [0.86, 0.14],\n",
       "       [0.03, 0.97],\n",
       "       [0.42, 0.58],\n",
       "       [0.31, 0.69],\n",
       "       [0.85, 0.15],\n",
       "       [0.94, 0.06],\n",
       "       [0.87, 0.13],\n",
       "       [0.12, 0.88],\n",
       "       [0.43, 0.57]])"
      ]
     },
     "execution_count": 83,
     "metadata": {},
     "output_type": "execute_result"
    }
   ],
   "source": [
    "rf.predict_proba(X_test)"
   ]
  },
  {
   "cell_type": "code",
   "execution_count": 74,
   "id": "b3782da8",
   "metadata": {
    "scrolled": true
   },
   "outputs": [
    {
     "data": {
      "text/plain": [
       "array([-1.36429658e+00, -8.25900860e-01, -1.06867343e+00,  2.44444674e+00,\n",
       "        1.46804961e+00,  2.83915660e+00,  7.03414144e-01, -1.58807455e+00,\n",
       "        1.00090943e+00,  2.33365428e+00, -4.37944934e-01, -1.72715470e+00,\n",
       "        3.73190846e-01, -1.22595250e+00, -9.80339933e-01,  2.97200030e+00,\n",
       "       -3.45668970e-01,  8.63311382e-01, -5.12668361e-01, -4.83718001e-01,\n",
       "       -1.41454038e+00, -1.34313839e-01,  1.03386782e+00, -1.13370195e+00,\n",
       "       -1.41300024e+00, -1.74253335e+00, -1.02542439e-01, -7.07920300e-01,\n",
       "       -1.93563936e+00,  1.04836133e+00, -1.02734630e+00,  1.15538388e+00,\n",
       "        5.11759837e-01,  1.00631898e+00, -1.30594719e+00, -1.16571759e+00,\n",
       "       -1.33568066e-01,  6.57323620e-01,  3.11821605e+00, -1.35451814e+00,\n",
       "       -8.52650341e-01, -1.67909113e+00, -1.30947991e+00, -1.66544264e+00,\n",
       "        9.05912790e-01, -1.92776474e+00, -1.39207373e+00, -1.35797515e+00,\n",
       "       -1.45663949e+00, -1.96575799e-01,  1.51969238e+00,  2.11167605e+00,\n",
       "       -2.60555410e+00,  4.81976926e-01, -2.76962810e+00,  2.82265152e+00,\n",
       "       -1.01739113e+00,  3.26235208e+00,  1.61376383e+00,  8.53182779e-01,\n",
       "       -1.28936598e+00,  2.08126304e+00,  1.68933482e+00, -1.56994625e-01,\n",
       "       -1.93385216e+00,  1.27131668e+00, -4.35690615e-01, -1.48055825e+00,\n",
       "       -1.16922150e+00,  2.47243355e+00,  1.51145783e+00,  3.51803846e+00,\n",
       "        6.43288484e-01,  2.75254255e+00, -1.14643630e+00, -1.75286079e+00,\n",
       "        8.94613793e-01,  2.91817777e+00,  1.56630436e+00,  4.45477122e-01,\n",
       "       -2.12665303e+00,  1.64532651e+00,  2.74606802e+00, -1.67092627e+00,\n",
       "       -4.18920043e-01, -5.53927414e-01,  2.99375193e+00,  3.00435587e+00,\n",
       "       -1.93893162e-01, -1.57864427e+00, -1.39144810e+00,  5.44074444e-01,\n",
       "       -6.93897030e-01, -1.84719540e+00, -1.65410655e+00, -1.51962247e+00,\n",
       "       -4.55769244e-01, -1.91367443e+00,  1.60225036e+00, -1.47659300e+00,\n",
       "       -8.35254942e-01, -1.55682361e+00,  3.21640464e+00, -1.68792746e+00,\n",
       "       -1.33969553e+00, -1.59233125e+00,  1.39037832e+00, -3.90775268e-01,\n",
       "       -1.55880505e+00, -5.59856591e-03,  2.56803799e+00, -1.36134969e+00,\n",
       "        3.19406050e+00, -1.55730031e-01,  9.64400325e-01, -1.04299928e+00,\n",
       "       -8.06045206e-01, -6.41476673e-01,  1.63012462e+00,  1.64188808e-01,\n",
       "       -1.19684268e+00,  3.00855957e+00,  1.69289916e+00, -5.03417372e-01,\n",
       "       -1.22058700e+00,  2.74850963e-01,  2.23935451e+00,  5.94841189e-01,\n",
       "        1.33879017e+00, -1.24915856e+00,  7.30707093e-01, -1.65529950e+00,\n",
       "       -8.26146838e-01,  1.88667936e+00, -1.44468557e-01,  1.81645895e+00,\n",
       "        3.27468168e+00, -1.56735476e+00, -1.61277304e+00,  1.04271019e+00,\n",
       "       -1.17588627e+00,  1.48671796e+00, -7.83235511e-01, -1.04778260e+00,\n",
       "       -3.70982068e-02,  1.39227696e+00, -8.91028508e-01, -1.87564491e+00,\n",
       "        3.10562405e+00, -1.71505598e+00, -1.05758540e+00, -1.31708840e+00,\n",
       "       -1.08848805e+00,  4.78099880e-01, -1.65289951e+00, -1.41649944e+00,\n",
       "       -1.15988431e+00,  6.05090597e-01,  1.53289850e+00,  4.50545785e-01,\n",
       "       -1.04155317e+00, -7.50542348e-04, -8.44926292e-01,  2.94591956e+00,\n",
       "       -2.01669011e+00, -7.18562451e-01, -6.46419286e-01,  2.47156860e+00,\n",
       "       -1.26246433e+00, -1.65976492e+00,  3.47164686e-01,  1.73670465e+00,\n",
       "       -1.28128219e-01,  1.80291685e+00, -1.18224851e+00, -9.79467237e-01,\n",
       "       -2.75942197e-01,  1.95047236e+00,  1.19034840e+00])"
      ]
     },
     "execution_count": 74,
     "metadata": {},
     "output_type": "execute_result"
    }
   ],
   "source": [
    "clf.decision_function(X_test)"
   ]
  },
  {
   "cell_type": "code",
   "execution_count": 97,
   "id": "a72f0e62",
   "metadata": {},
   "outputs": [],
   "source": [
    "clf_fpr, clf_tpr, clf_thresholds = ms.roc_curve(y_test, clf.decision_function(X_test))\n",
    "rf_fpr, rf_tpr, rf_thresholds = ms.roc_curve(y_test, rf.predict_proba(X_test)[:,1])"
   ]
  },
  {
   "cell_type": "code",
   "execution_count": 104,
   "id": "5b69cee8",
   "metadata": {},
   "outputs": [],
   "source": [
    "a = np.argmin(np.abs(clf_thresholds))\n",
    "b = np.argmin(np.abs(rf_thresholds))"
   ]
  },
  {
   "cell_type": "code",
   "execution_count": 110,
   "id": "e7b2e54e",
   "metadata": {},
   "outputs": [
    {
     "name": "stderr",
     "output_type": "stream",
     "text": [
      "C:\\Users\\Li\\anaconda3\\lib\\site-packages\\sklearn\\utils\\deprecation.py:87: FutureWarning: Function plot_roc_curve is deprecated; Function :func:`plot_roc_curve` is deprecated in 1.0 and will be removed in 1.2. Use one of the class methods: :meth:`sklearn.metric.RocCurveDisplay.from_predictions` or :meth:`sklearn.metric.RocCurveDisplay.from_estimator`.\n",
      "  warnings.warn(msg, category=FutureWarning)\n",
      "C:\\Users\\Li\\anaconda3\\lib\\site-packages\\sklearn\\utils\\deprecation.py:87: FutureWarning: Function plot_roc_curve is deprecated; Function :func:`plot_roc_curve` is deprecated in 1.0 and will be removed in 1.2. Use one of the class methods: :meth:`sklearn.metric.RocCurveDisplay.from_predictions` or :meth:`sklearn.metric.RocCurveDisplay.from_estimator`.\n",
      "  warnings.warn(msg, category=FutureWarning)\n"
     ]
    },
    {
     "data": {
      "text/plain": [
       "[<matplotlib.lines.Line2D at 0x16b12c04d00>]"
      ]
     },
     "execution_count": 110,
     "metadata": {},
     "output_type": "execute_result"
    },
    {
     "data": {
      "image/png": "[encoded data removed]",
      "text/plain": [
       "<Figure size 720x432 with 1 Axes>"
      ]
     },
     "metadata": {
      "needs_background": "light"
     },
     "output_type": "display_data"
    }
   ],
   "source": [
    "clf_curve = prc(clf, X_test, y_test, response_method = 'decision_function', name = 'clf')\n",
    "re_curve = prc(rf, X_test, y_test,  name = 'rf', ax = clf_curve.ax_)\n",
    "plt.plot(clf_fpr[a], clf_tpr[a], 'o')\n",
    "plt.plot(rf_fpr[b], rf_tpr[b], 'x')"
   ]
  }
 ],
 "metadata": {
  "kernelspec": {
   "display_name": "Python 3 (ipykernel)",
   "language": "python",
   "name": "python3"
  },
  "language_info": {
   "codemirror_mode": {
    "name": "ipython",
    "version": 3
   },
   "file_extension": ".py",
   "mimetype": "text/x-python",
   "name": "python",
   "nbconvert_exporter": "python",
   "pygments_lexer": "ipython3",
   "version": "3.9.12"
  }
 },
 "nbformat": 4,
 "nbformat_minor": 5
}
